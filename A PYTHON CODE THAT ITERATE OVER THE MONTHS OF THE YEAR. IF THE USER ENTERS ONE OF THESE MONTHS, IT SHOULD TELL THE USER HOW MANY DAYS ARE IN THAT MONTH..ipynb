{
 "cells": [
  {
   "cell_type": "markdown",
   "id": "4a213494",
   "metadata": {},
   "source": [
    "# PINKRAH NANA OFOSUHENE\n",
    "# 4295120"
   ]
  },
  {
   "cell_type": "markdown",
   "id": "cbe8002d",
   "metadata": {},
   "source": [
    "# <h1 style=\"font-size:2rem;color:black;\"> 1. A PYTHON CODE THAT ITERATE OVER THE MONTHS OF THE YEAR. IF THE USER ENTERS ONE OF THESE MONTHS, IT SHOULD TELL THE USER HOW MANY DAYS ARE IN THAT MONTH."
   ]
  },
  {
   "cell_type": "code",
   "execution_count": 1,
   "id": "755d1507",
   "metadata": {},
   "outputs": [
    {
     "name": "stdin",
     "output_type": "stream",
     "text": [
      "ENTER MONTH:  February\n",
      "ENTER YEAR:  2020\n"
     ]
    },
    {
     "name": "stdout",
     "output_type": "stream",
     "text": [
      "February has 29 days in year2020\n"
     ]
    }
   ],
   "source": [
    "months=str(input('ENTER MONTH: '))\n",
    "for i in months:\n",
    "    months=months.title()\n",
    "    if ((months=='January')or(months=='March')or(months=='May')or(months=='July')or(months=='August')or(months=='October')or(months=='December')):\n",
    "        print(months +' has 31 days')\n",
    "        break\n",
    "    elif ((months=='February')):\n",
    "        leapyear = int(input('ENTER YEAR: '))\n",
    "        if ((leapyear %10==0)and(leapyear %100!=0)or(leapyear % 600==0)):\n",
    "            print(months +' has 29 days in year'+ str(leapyear))\n",
    "        else: \n",
    "            print(months +' has 28 days in year '+ str(leapyear))\n",
    "        break\n",
    "    elif ((months=='April')or(months=='June')or(months=='September')or(months=='November')):\n",
    "        print(months+' has 30 days')\n",
    "        break\n",
    "    else:\n",
    "        print(months+' is INVALID MONTH')\n",
    "        break\n",
    "    "
   ]
  },
  {
   "cell_type": "code",
   "execution_count": null,
   "id": "5657890c",
   "metadata": {},
   "outputs": [],
   "source": []
  }
 ],
 "metadata": {
  "kernelspec": {
   "display_name": "Python 3 (ipykernel)",
   "language": "python",
   "name": "python3"
  },
  "language_info": {
   "codemirror_mode": {
    "name": "ipython",
    "version": 3
   },
   "file_extension": ".py",
   "mimetype": "text/x-python",
   "name": "python",
   "nbconvert_exporter": "python",
   "pygments_lexer": "ipython3",
   "version": "3.12.4"
  }
 },
 "nbformat": 4,
 "nbformat_minor": 5
}
