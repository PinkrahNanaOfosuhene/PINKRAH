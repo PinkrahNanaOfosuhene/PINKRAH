{
 "cells": [
  {
   "cell_type": "markdown",
   "id": "7bd7ba93-f424-479a-a90c-a38509c148cc",
   "metadata": {},
   "source": [
    "# This script uses the CDS API to download ERA5 reanalysis data for daily total precipitation\n",
    "## from 2004 to 2023. The data is requested for the area bounded by latitude 12°N to 4°N\n",
    "## and longitude -3°E to 2°E. The script retrieves daily mean precipitation values and saves\n",
    "## them in NetCDF format with filenames corresponding to each year.\n",
    "## The time resolution of the data is hourly, and the data is retrieved in UTC timezone.\n"
   ]
  },
  {
   "cell_type": "code",
   "execution_count": 2,
   "id": "6a7813df-e080-4ecf-90a5-72db881d6e93",
   "metadata": {},
   "outputs": [
    {
     "name": "stderr",
     "output_type": "stream",
     "text": [
      "2025-02-05 09:01:01,338 INFO [2024-09-26T00:00:00] Watch our [Forum](https://forum.ecmwf.int/) for Announcements, news and other discussed topics.\n",
      "2025-02-05 09:01:01,340 WARNING [2024-06-16T00:00:00] CDS API syntax is changed and some keys or parameter names may have also changed. To avoid requests failing, please use the \"Show API request code\" tool on the dataset Download Form to check you are using the correct syntax for your API request.\n",
      "2025-02-05 09:01:05,549 INFO [2025-01-09T00:00:00] Please be aware that ERA5 data from 1st January 2025 was degraded and is being corrected. Watch the [Forum announcement](https://forum.ecmwf.int/t/era5-data-from-1st-january-2025-was-degraded-and-is-being-corrected/10689) for updates.\n",
      "2025-02-05 09:01:05,551 INFO Request ID is bcf4b013-1682-45a5-9d64-642b68989843\n",
      "2025-02-05 09:01:05,876 INFO status has been updated to accepted\n",
      "2025-02-05 09:05:30,188 INFO status has been updated to successful\n"
     ]
    },
    {
     "data": {
      "application/vnd.jupyter.widget-view+json": {
       "model_id": "849e8b9db04348c9912a5302cfacf787",
       "version_major": 2,
       "version_minor": 0
      },
      "text/plain": [
       "4f491fb7f89c4b533a20566fbfd0758f.nc:   0%|          | 0.00/506k [00:00<?, ?B/s]"
      ]
     },
     "metadata": {},
     "output_type": "display_data"
    },
    {
     "name": "stdout",
     "output_type": "stream",
     "text": [
      "Downloaded data for year 2004: era5_daily_totlprecipitation2004.nc\n"
     ]
    },
    {
     "name": "stderr",
     "output_type": "stream",
     "text": [
      "2025-02-05 09:05:34,545 INFO [2025-01-09T00:00:00] Please be aware that ERA5 data from 1st January 2025 was degraded and is being corrected. Watch the [Forum announcement](https://forum.ecmwf.int/t/era5-data-from-1st-january-2025-was-degraded-and-is-being-corrected/10689) for updates.\n",
      "2025-02-05 09:05:34,547 INFO Request ID is 1cbf5af3-db10-42c8-b681-7b3ce7a91b16\n",
      "2025-02-05 09:05:34,812 INFO status has been updated to accepted\n",
      "2025-02-05 09:05:43,835 INFO status has been updated to running\n",
      "2025-02-05 09:18:14,052 INFO Daily reduction: mean {'time_shift': {'hours': -1}, 'remove_partial_periods': True}\n",
      "2025-02-05 09:18:14,054 INFO status has been updated to successful\n"
     ]
    },
    {
     "data": {
      "application/vnd.jupyter.widget-view+json": {
       "model_id": "15d0880222454709b55adeafddbdb160",
       "version_major": 2,
       "version_minor": 0
      },
      "text/plain": [
       "b9c92c2369d70bee6e338fbb26333068.nc:   0%|          | 0.00/499k [00:00<?, ?B/s]"
      ]
     },
     "metadata": {},
     "output_type": "display_data"
    },
    {
     "name": "stdout",
     "output_type": "stream",
     "text": [
      "Downloaded data for year 2005: era5_daily_totlprecipitation2005.nc\n"
     ]
    },
    {
     "name": "stderr",
     "output_type": "stream",
     "text": [
      "2025-02-05 09:18:20,668 INFO [2025-01-09T00:00:00] Please be aware that ERA5 data from 1st January 2025 was degraded and is being corrected. Watch the [Forum announcement](https://forum.ecmwf.int/t/era5-data-from-1st-january-2025-was-degraded-and-is-being-corrected/10689) for updates.\n",
      "2025-02-05 09:18:20,670 INFO Request ID is 5dd911af-ec76-4729-a747-23a439f8082f\n",
      "2025-02-05 09:18:21,087 INFO status has been updated to accepted\n",
      "2025-02-05 09:21:15,945 INFO status has been updated to running\n",
      "2025-02-05 09:36:53,398 INFO Daily reduction: mean {'time_shift': {'hours': -1}, 'remove_partial_periods': True}\n",
      "2025-02-05 09:38:58,952 INFO status has been updated to successful\n"
     ]
    },
    {
     "data": {
      "application/vnd.jupyter.widget-view+json": {
       "model_id": "fbc48869c5684c3690e9f5d5b6a8d074",
       "version_major": 2,
       "version_minor": 0
      },
      "text/plain": [
       "7d77419b1d4456e3a6d5766972bdf0a0.nc:   0%|          | 0.00/498k [00:00<?, ?B/s]"
      ]
     },
     "metadata": {},
     "output_type": "display_data"
    },
    {
     "name": "stdout",
     "output_type": "stream",
     "text": [
      "Downloaded data for year 2006: era5_daily_totlprecipitation2006.nc\n"
     ]
    },
    {
     "name": "stderr",
     "output_type": "stream",
     "text": [
      "2025-02-05 09:39:04,286 INFO [2025-01-09T00:00:00] Please be aware that ERA5 data from 1st January 2025 was degraded and is being corrected. Watch the [Forum announcement](https://forum.ecmwf.int/t/era5-data-from-1st-january-2025-was-degraded-and-is-being-corrected/10689) for updates.\n",
      "2025-02-05 09:39:04,288 INFO Request ID is eae8747b-5f24-4c93-bb2d-4b5e247749b1\n",
      "2025-02-05 09:39:04,498 INFO status has been updated to accepted\n",
      "2025-02-05 09:39:55,654 INFO status has been updated to running\n",
      "Recovering from connection error [HTTPSConnectionPool(host='cds.climate.copernicus.eu', port=443): Max retries exceeded with url: /api/retrieve/v1/jobs/eae8747b-5f24-4c93-bb2d-4b5e247749b1?log=True&request=True (Caused by ConnectTimeoutError(<urllib3.connection.HTTPSConnection object at 0x72b11c502e70>, 'Connection to cds.climate.copernicus.eu timed out. (connect timeout=60)'))], attemps 1 of 500\n",
      "Retrying in 120 seconds\n",
      "Recovering from connection error [HTTPSConnectionPool(host='cds.climate.copernicus.eu', port=443): Read timed out. (read timeout=60)], attemps 1 of 500\n",
      "Retrying in 120 seconds\n",
      "Recovering from connection error [HTTPSConnectionPool(host='cds.climate.copernicus.eu', port=443): Max retries exceeded with url: /api/retrieve/v1/jobs/eae8747b-5f24-4c93-bb2d-4b5e247749b1?log=True&request=True (Caused by ConnectTimeoutError(<urllib3.connection.HTTPSConnection object at 0x72b11c500ce0>, 'Connection to cds.climate.copernicus.eu timed out. (connect timeout=60)'))], attemps 2 of 500\n",
      "Retrying in 120 seconds\n",
      "Recovering from connection error [HTTPSConnectionPool(host='cds.climate.copernicus.eu', port=443): Max retries exceeded with url: /api/retrieve/v1/jobs/eae8747b-5f24-4c93-bb2d-4b5e247749b1?log=True&request=True (Caused by ConnectTimeoutError(<urllib3.connection.HTTPSConnection object at 0x72b11c6d22a0>, 'Connection to cds.climate.copernicus.eu timed out. (connect timeout=60)'))], attemps 3 of 500\n",
      "Retrying in 120 seconds\n",
      "Recovering from connection error [HTTPSConnectionPool(host='cds.climate.copernicus.eu', port=443): Max retries exceeded with url: /api/retrieve/v1/jobs/eae8747b-5f24-4c93-bb2d-4b5e247749b1?log=True&request=True (Caused by ConnectTimeoutError(<urllib3.connection.HTTPSConnection object at 0x72b11c6d09b0>, 'Connection to cds.climate.copernicus.eu timed out. (connect timeout=60)'))], attemps 4 of 500\n",
      "Retrying in 120 seconds\n",
      "Recovering from connection error [HTTPSConnectionPool(host='cds.climate.copernicus.eu', port=443): Max retries exceeded with url: /api/retrieve/v1/jobs/eae8747b-5f24-4c93-bb2d-4b5e247749b1?log=True&request=True (Caused by ConnectTimeoutError(<urllib3.connection.HTTPSConnection object at 0x72b11c6b6d20>, 'Connection to cds.climate.copernicus.eu timed out. (connect timeout=60)'))], attemps 5 of 500\n",
      "Retrying in 120 seconds\n",
      "2025-02-05 10:08:09,842 INFO Daily reduction: mean {'time_shift': {'hours': -1}, 'remove_partial_periods': True}\n",
      "2025-02-05 10:08:09,890 INFO status has been updated to successful\n"
     ]
    },
    {
     "data": {
      "application/vnd.jupyter.widget-view+json": {
       "model_id": "43b0ffb3e23c4c31870b9da87ca61d75",
       "version_major": 2,
       "version_minor": 0
      },
      "text/plain": [
       "73d7433905b8445a1fda9c091ea911d1.nc:   0%|          | 0.00/491k [00:00<?, ?B/s]"
      ]
     },
     "metadata": {},
     "output_type": "display_data"
    },
    {
     "name": "stdout",
     "output_type": "stream",
     "text": [
      "Downloaded data for year 2007: era5_daily_totlprecipitation2007.nc\n"
     ]
    },
    {
     "name": "stderr",
     "output_type": "stream",
     "text": [
      "2025-02-05 10:08:15,577 INFO [2025-01-09T00:00:00] Please be aware that ERA5 data from 1st January 2025 was degraded and is being corrected. Watch the [Forum announcement](https://forum.ecmwf.int/t/era5-data-from-1st-january-2025-was-degraded-and-is-being-corrected/10689) for updates.\n",
      "2025-02-05 10:08:15,580 INFO Request ID is f2d26a3f-4157-4674-a972-117f5f60dd68\n",
      "2025-02-05 10:08:15,811 INFO status has been updated to accepted\n",
      "2025-02-05 10:10:19,414 INFO status has been updated to running\n",
      "Recovering from connection error [HTTPSConnectionPool(host='cds.climate.copernicus.eu', port=443): Max retries exceeded with url: /api/retrieve/v1/jobs/f2d26a3f-4157-4674-a972-117f5f60dd68?log=True&request=True (Caused by ConnectTimeoutError(<urllib3.connection.HTTPSConnection object at 0x72b11c6b6fc0>, 'Connection to cds.climate.copernicus.eu timed out. (connect timeout=60)'))], attemps 1 of 500\n",
      "Retrying in 120 seconds\n",
      "2025-02-05 10:23:47,832 INFO Daily reduction: mean {'time_shift': {'hours': -1}, 'remove_partial_periods': True}\n",
      "2025-02-05 10:23:47,833 INFO status has been updated to successful\n"
     ]
    },
    {
     "data": {
      "application/vnd.jupyter.widget-view+json": {
       "model_id": "fcac877f775642fcadfd0789518fe521",
       "version_major": 2,
       "version_minor": 0
      },
      "text/plain": [
       "550465a32d6421650a126dc1d1ebdb14.nc:   0%|          | 0.00/480k [00:00<?, ?B/s]"
      ]
     },
     "metadata": {},
     "output_type": "display_data"
    },
    {
     "name": "stdout",
     "output_type": "stream",
     "text": [
      "Downloaded data for year 2008: era5_daily_totlprecipitation2008.nc\n"
     ]
    },
    {
     "name": "stderr",
     "output_type": "stream",
     "text": [
      "2025-02-05 10:23:51,831 INFO [2025-01-09T00:00:00] Please be aware that ERA5 data from 1st January 2025 was degraded and is being corrected. Watch the [Forum announcement](https://forum.ecmwf.int/t/era5-data-from-1st-january-2025-was-degraded-and-is-being-corrected/10689) for updates.\n",
      "2025-02-05 10:23:51,833 INFO Request ID is b093b872-1cbd-418e-a9be-7c30a2b89ab6\n",
      "2025-02-05 10:23:52,037 INFO status has been updated to accepted\n",
      "2025-02-05 10:32:15,145 INFO status has been updated to running\n",
      "Recovering from HTTP error [500 Internal Server Error], attemps 1 of 500\n",
      "Retrying in 120 seconds\n",
      "2025-02-05 10:46:44,159 INFO Daily reduction: mean {'time_shift': {'hours': -1}, 'remove_partial_periods': True}\n",
      "2025-02-05 10:46:44,162 INFO status has been updated to successful\n"
     ]
    },
    {
     "data": {
      "application/vnd.jupyter.widget-view+json": {
       "model_id": "e558ea00a9904ae68e04b12bc02ee0f7",
       "version_major": 2,
       "version_minor": 0
      },
      "text/plain": [
       "5674adbf22368489eee6c5c9230ef0e9.nc:   0%|          | 0.00/511k [00:00<?, ?B/s]"
      ]
     },
     "metadata": {},
     "output_type": "display_data"
    },
    {
     "name": "stdout",
     "output_type": "stream",
     "text": [
      "Downloaded data for year 2009: era5_daily_totlprecipitation2009.nc\n"
     ]
    },
    {
     "name": "stderr",
     "output_type": "stream",
     "text": [
      "2025-02-05 10:46:47,431 INFO [2025-01-09T00:00:00] Please be aware that ERA5 data from 1st January 2025 was degraded and is being corrected. Watch the [Forum announcement](https://forum.ecmwf.int/t/era5-data-from-1st-january-2025-was-degraded-and-is-being-corrected/10689) for updates.\n",
      "2025-02-05 10:46:47,434 INFO Request ID is 41a1b8da-d190-4017-a130-8edf1ea3294f\n",
      "2025-02-05 10:46:47,624 INFO status has been updated to accepted\n",
      "2025-02-05 10:46:56,450 INFO status has been updated to running\n",
      "2025-02-05 11:03:33,948 INFO Daily reduction: mean {'time_shift': {'hours': -1}, 'remove_partial_periods': True}\n",
      "2025-02-05 11:03:33,950 INFO status has been updated to successful\n"
     ]
    },
    {
     "data": {
      "application/vnd.jupyter.widget-view+json": {
       "model_id": "2cb977a4f65649fe9333b7be442f06c9",
       "version_major": 2,
       "version_minor": 0
      },
      "text/plain": [
       "ea9f13c7508313ee6effacbea141367b.nc:   0%|          | 0.00/511k [00:00<?, ?B/s]"
      ]
     },
     "metadata": {},
     "output_type": "display_data"
    },
    {
     "name": "stdout",
     "output_type": "stream",
     "text": [
      "Downloaded data for year 2010: era5_daily_totlprecipitation2010.nc\n"
     ]
    },
    {
     "name": "stderr",
     "output_type": "stream",
     "text": [
      "2025-02-05 11:03:37,871 INFO [2025-01-09T00:00:00] Please be aware that ERA5 data from 1st January 2025 was degraded and is being corrected. Watch the [Forum announcement](https://forum.ecmwf.int/t/era5-data-from-1st-january-2025-was-degraded-and-is-being-corrected/10689) for updates.\n",
      "2025-02-05 11:03:37,873 INFO Request ID is c4101a00-5443-4268-bf15-3a5cb892d340\n",
      "2025-02-05 11:03:38,560 INFO status has been updated to accepted\n",
      "2025-02-05 11:03:53,283 INFO status has been updated to running\n",
      "2025-02-05 11:16:03,349 INFO Daily reduction: mean {'time_shift': {'hours': -1}, 'remove_partial_periods': True}\n",
      "2025-02-05 11:16:03,433 INFO status has been updated to successful\n"
     ]
    },
    {
     "data": {
      "application/vnd.jupyter.widget-view+json": {
       "model_id": "395740d82df347d1a942a019de9de439",
       "version_major": 2,
       "version_minor": 0
      },
      "text/plain": [
       "8900d17697bb7e48738ab5a8ac26de2a.nc:   0%|          | 0.00/499k [00:00<?, ?B/s]"
      ]
     },
     "metadata": {},
     "output_type": "display_data"
    },
    {
     "name": "stdout",
     "output_type": "stream",
     "text": [
      "Downloaded data for year 2011: era5_daily_totlprecipitation2011.nc\n"
     ]
    },
    {
     "name": "stderr",
     "output_type": "stream",
     "text": [
      "2025-02-05 11:16:09,185 INFO [2025-01-09T00:00:00] Please be aware that ERA5 data from 1st January 2025 was degraded and is being corrected. Watch the [Forum announcement](https://forum.ecmwf.int/t/era5-data-from-1st-january-2025-was-degraded-and-is-being-corrected/10689) for updates.\n",
      "2025-02-05 11:16:09,189 INFO Request ID is 5c37aa89-91d8-406b-a412-6f67bb8c5f02\n",
      "2025-02-05 11:16:09,371 INFO status has been updated to accepted\n",
      "2025-02-05 11:16:31,253 INFO status has been updated to running\n",
      "Recovering from connection error [HTTPSConnectionPool(host='cds.climate.copernicus.eu', port=443): Max retries exceeded with url: /api/retrieve/v1/jobs/5c37aa89-91d8-406b-a412-6f67bb8c5f02?log=True&request=True (Caused by ConnectTimeoutError(<urllib3.connection.HTTPSConnection object at 0x72b11c5009b0>, 'Connection to cds.climate.copernicus.eu timed out. (connect timeout=60)'))], attemps 1 of 500\n",
      "Retrying in 120 seconds\n",
      "2025-02-05 11:31:49,622 INFO Daily reduction: mean {'time_shift': {'hours': -1}, 'remove_partial_periods': True}\n",
      "2025-02-05 11:31:49,624 INFO status has been updated to successful\n"
     ]
    },
    {
     "data": {
      "application/vnd.jupyter.widget-view+json": {
       "model_id": "027f7fb453064870ad1e3b48a642e464",
       "version_major": 2,
       "version_minor": 0
      },
      "text/plain": [
       "52910d6f092f0a5d489cfdcd6bfc212.nc:   0%|          | 0.00/512k [00:00<?, ?B/s]"
      ]
     },
     "metadata": {},
     "output_type": "display_data"
    },
    {
     "name": "stdout",
     "output_type": "stream",
     "text": [
      "Downloaded data for year 2012: era5_daily_totlprecipitation2012.nc\n"
     ]
    },
    {
     "name": "stderr",
     "output_type": "stream",
     "text": [
      "2025-02-05 11:31:53,349 INFO [2025-01-09T00:00:00] Please be aware that ERA5 data from 1st January 2025 was degraded and is being corrected. Watch the [Forum announcement](https://forum.ecmwf.int/t/era5-data-from-1st-january-2025-was-degraded-and-is-being-corrected/10689) for updates.\n",
      "2025-02-05 11:31:53,352 INFO Request ID is 0ba34435-e02e-441c-a7bf-788c1dee0ac6\n",
      "2025-02-05 11:31:53,541 INFO status has been updated to accepted\n",
      "2025-02-05 11:32:02,927 INFO status has been updated to running\n",
      "2025-02-05 11:46:17,830 INFO Daily reduction: mean {'time_shift': {'hours': -1}, 'remove_partial_periods': True}\n",
      "2025-02-05 11:46:17,832 INFO status has been updated to successful\n"
     ]
    },
    {
     "data": {
      "application/vnd.jupyter.widget-view+json": {
       "model_id": "2a02c5c178414c43aa4c451af7472882",
       "version_major": 2,
       "version_minor": 0
      },
      "text/plain": [
       "8115798dfa61ee6776927f0c62b18ede.nc:   0%|          | 0.00/504k [00:00<?, ?B/s]"
      ]
     },
     "metadata": {},
     "output_type": "display_data"
    },
    {
     "name": "stdout",
     "output_type": "stream",
     "text": [
      "Downloaded data for year 2013: era5_daily_totlprecipitation2013.nc\n"
     ]
    },
    {
     "name": "stderr",
     "output_type": "stream",
     "text": [
      "2025-02-05 11:46:21,418 INFO [2025-01-09T00:00:00] Please be aware that ERA5 data from 1st January 2025 was degraded and is being corrected. Watch the [Forum announcement](https://forum.ecmwf.int/t/era5-data-from-1st-january-2025-was-degraded-and-is-being-corrected/10689) for updates.\n",
      "2025-02-05 11:46:21,420 INFO Request ID is f533887e-17a1-4a91-8bf2-272befb4348f\n",
      "2025-02-05 11:46:21,595 INFO status has been updated to accepted\n",
      "2025-02-05 11:46:30,485 INFO status has been updated to running\n",
      "2025-02-05 12:05:08,295 INFO Daily reduction: mean {'time_shift': {'hours': -1}, 'remove_partial_periods': True}\n",
      "2025-02-05 12:05:08,366 INFO status has been updated to successful\n"
     ]
    },
    {
     "data": {
      "application/vnd.jupyter.widget-view+json": {
       "model_id": "6679c7cd82844bedb5ba34de8fb89358",
       "version_major": 2,
       "version_minor": 0
      },
      "text/plain": [
       "e9cfab80990a25f8aa400c1a2f416a1e.nc:   0%|          | 0.00/520k [00:00<?, ?B/s]"
      ]
     },
     "metadata": {},
     "output_type": "display_data"
    },
    {
     "name": "stdout",
     "output_type": "stream",
     "text": [
      "Downloaded data for year 2014: era5_daily_totlprecipitation2014.nc\n"
     ]
    },
    {
     "name": "stderr",
     "output_type": "stream",
     "text": [
      "2025-02-05 12:05:12,561 INFO [2025-01-09T00:00:00] Please be aware that ERA5 data from 1st January 2025 was degraded and is being corrected. Watch the [Forum announcement](https://forum.ecmwf.int/t/era5-data-from-1st-january-2025-was-degraded-and-is-being-corrected/10689) for updates.\n",
      "2025-02-05 12:05:12,565 INFO Request ID is f5fa9351-965d-4ce6-b2b2-3afeef70ab01\n",
      "2025-02-05 12:05:12,779 INFO status has been updated to accepted\n",
      "2025-02-05 12:05:21,708 INFO status has been updated to running\n",
      "2025-02-05 12:21:43,231 INFO Daily reduction: mean {'time_shift': {'hours': -1}, 'remove_partial_periods': True}\n",
      "2025-02-05 12:21:43,233 INFO status has been updated to successful\n"
     ]
    },
    {
     "data": {
      "application/vnd.jupyter.widget-view+json": {
       "model_id": "49aa6c89ea2140ee8b266135afa088cf",
       "version_major": 2,
       "version_minor": 0
      },
      "text/plain": [
       "f71ebccec4176ee01c6dfc818dc20e4d.nc:   0%|          | 0.00/482k [00:00<?, ?B/s]"
      ]
     },
     "metadata": {},
     "output_type": "display_data"
    },
    {
     "name": "stdout",
     "output_type": "stream",
     "text": [
      "Downloaded data for year 2015: era5_daily_totlprecipitation2015.nc\n"
     ]
    },
    {
     "name": "stderr",
     "output_type": "stream",
     "text": [
      "2025-02-05 12:21:46,963 INFO [2025-01-09T00:00:00] Please be aware that ERA5 data from 1st January 2025 was degraded and is being corrected. Watch the [Forum announcement](https://forum.ecmwf.int/t/era5-data-from-1st-january-2025-was-degraded-and-is-being-corrected/10689) for updates.\n",
      "2025-02-05 12:21:46,966 INFO Request ID is befe9a69-26b3-4597-bf25-89cb7ed82f3d\n",
      "2025-02-05 12:21:47,174 INFO status has been updated to accepted\n",
      "2025-02-05 12:21:56,160 INFO status has been updated to running\n",
      "Recovering from connection error [HTTPSConnectionPool(host='cds.climate.copernicus.eu', port=443): Max retries exceeded with url: /api/retrieve/v1/jobs/befe9a69-26b3-4597-bf25-89cb7ed82f3d?log=True&request=True (Caused by NameResolutionError(\"<urllib3.connection.HTTPSConnection object at 0x72b11c501fd0>: Failed to resolve 'cds.climate.copernicus.eu' ([Errno -3] Temporary failure in name resolution)\"))], attemps 1 of 500\n",
      "Retrying in 120 seconds\n",
      "Recovering from connection error [('Connection aborted.', RemoteDisconnected('Remote end closed connection without response'))], attemps 1 of 500\n",
      "Retrying in 120 seconds\n",
      "Recovering from connection error [('Connection aborted.', RemoteDisconnected('Remote end closed connection without response'))], attemps 2 of 500\n",
      "Retrying in 120 seconds\n",
      "Recovering from connection error [('Connection aborted.', RemoteDisconnected('Remote end closed connection without response'))], attemps 3 of 500\n",
      "Retrying in 120 seconds\n",
      "Recovering from HTTP error [500 Internal Server Error], attemps 4 of 500\n",
      "Retrying in 120 seconds\n",
      "2025-02-05 13:26:45,658 INFO Daily reduction: mean {'time_shift': {'hours': -1}, 'remove_partial_periods': True}\n",
      "2025-02-05 13:47:27,453 INFO Daily reduction: mean {'time_shift': {'hours': -1}, 'remove_partial_periods': True}\n",
      "2025-02-05 13:47:27,480 INFO status has been updated to successful\n"
     ]
    },
    {
     "data": {
      "application/vnd.jupyter.widget-view+json": {
       "model_id": "360948eb33d8499ca3d8c06e6b675d2a",
       "version_major": 2,
       "version_minor": 0
      },
      "text/plain": [
       "b607e72be2bbb919ea4b21a3c604dd92.nc:   0%|          | 0.00/496k [00:00<?, ?B/s]"
      ]
     },
     "metadata": {},
     "output_type": "display_data"
    },
    {
     "name": "stdout",
     "output_type": "stream",
     "text": [
      "Downloaded data for year 2016: era5_daily_totlprecipitation2016.nc\n"
     ]
    },
    {
     "name": "stderr",
     "output_type": "stream",
     "text": [
      "2025-02-05 13:48:05,729 INFO [2025-01-09T00:00:00] Please be aware that ERA5 data from 1st January 2025 was degraded and is being corrected. Watch the [Forum announcement](https://forum.ecmwf.int/t/era5-data-from-1st-january-2025-was-degraded-and-is-being-corrected/10689) for updates.\n",
      "2025-02-05 13:48:05,731 INFO Request ID is 3933f12a-ebe7-4f5b-a760-2d2cc0ab74bf\n",
      "2025-02-05 13:48:07,078 INFO status has been updated to accepted\n",
      "2025-02-05 13:48:09,936 INFO status has been updated to running\n",
      "2025-02-05 13:48:11,766 INFO status has been updated to accepted\n",
      "2025-02-05 13:48:14,263 INFO status has been updated to running\n",
      "2025-02-05 13:57:18,556 INFO Daily reduction: mean {'time_shift': {'hours': -1}, 'remove_partial_periods': True}\n",
      "2025-02-05 13:57:18,558 INFO status has been updated to successful\n"
     ]
    },
    {
     "data": {
      "application/vnd.jupyter.widget-view+json": {
       "model_id": "31fc1b982ec947fe8dfd003b1c4266ff",
       "version_major": 2,
       "version_minor": 0
      },
      "text/plain": [
       "8fa7b102564ef2287385b243fbef888d.nc:   0%|          | 0.00/492k [00:00<?, ?B/s]"
      ]
     },
     "metadata": {},
     "output_type": "display_data"
    },
    {
     "name": "stdout",
     "output_type": "stream",
     "text": [
      "Downloaded data for year 2017: era5_daily_totlprecipitation2017.nc\n"
     ]
    },
    {
     "name": "stderr",
     "output_type": "stream",
     "text": [
      "2025-02-05 13:57:23,503 INFO [2025-01-09T00:00:00] Please be aware that ERA5 data from 1st January 2025 was degraded and is being corrected. Watch the [Forum announcement](https://forum.ecmwf.int/t/era5-data-from-1st-january-2025-was-degraded-and-is-being-corrected/10689) for updates.\n",
      "2025-02-05 13:57:23,518 INFO Request ID is edea8078-d394-4fac-a7bb-b851da5ce2c1\n",
      "2025-02-05 13:57:25,212 INFO status has been updated to accepted\n",
      "2025-02-05 13:57:30,679 INFO status has been updated to running\n",
      "2025-02-05 14:10:05,258 INFO Daily reduction: mean {'time_shift': {'hours': -1}, 'remove_partial_periods': True}\n",
      "2025-02-05 14:10:05,260 INFO status has been updated to successful\n"
     ]
    },
    {
     "data": {
      "application/vnd.jupyter.widget-view+json": {
       "model_id": "e3f25cc9004a4ac6842872dbf4cee336",
       "version_major": 2,
       "version_minor": 0
      },
      "text/plain": [
       "bea563c06c0fe830457e57a298594596.nc:   0%|          | 0.00/509k [00:00<?, ?B/s]"
      ]
     },
     "metadata": {},
     "output_type": "display_data"
    },
    {
     "name": "stdout",
     "output_type": "stream",
     "text": [
      "Downloaded data for year 2018: era5_daily_totlprecipitation2018.nc\n"
     ]
    },
    {
     "name": "stderr",
     "output_type": "stream",
     "text": [
      "2025-02-05 14:10:15,532 INFO [2025-01-09T00:00:00] Please be aware that ERA5 data from 1st January 2025 was degraded and is being corrected. Watch the [Forum announcement](https://forum.ecmwf.int/t/era5-data-from-1st-january-2025-was-degraded-and-is-being-corrected/10689) for updates.\n",
      "2025-02-05 14:10:15,535 INFO Request ID is 604f7528-6339-47db-b17f-90364871f9d7\n",
      "2025-02-05 14:10:15,851 INFO status has been updated to accepted\n",
      "2025-02-05 14:10:21,666 INFO status has been updated to running\n",
      "2025-02-05 14:29:07,435 INFO Daily reduction: mean {'time_shift': {'hours': -1}, 'remove_partial_periods': True}\n",
      "2025-02-05 14:29:07,438 INFO status has been updated to successful\n"
     ]
    },
    {
     "data": {
      "application/vnd.jupyter.widget-view+json": {
       "model_id": "b07f2c33ed14451cb6bea314b09cb80e",
       "version_major": 2,
       "version_minor": 0
      },
      "text/plain": [
       "8e3520763ccb00804250942195845b78.nc:   0%|          | 0.00/512k [00:00<?, ?B/s]"
      ]
     },
     "metadata": {},
     "output_type": "display_data"
    },
    {
     "name": "stdout",
     "output_type": "stream",
     "text": [
      "Downloaded data for year 2019: era5_daily_totlprecipitation2019.nc\n"
     ]
    },
    {
     "name": "stderr",
     "output_type": "stream",
     "text": [
      "2025-02-05 14:29:29,611 INFO [2025-01-09T00:00:00] Please be aware that ERA5 data from 1st January 2025 was degraded and is being corrected. Watch the [Forum announcement](https://forum.ecmwf.int/t/era5-data-from-1st-january-2025-was-degraded-and-is-being-corrected/10689) for updates.\n",
      "2025-02-05 14:29:29,612 INFO Request ID is 0ff76999-0ec1-4090-9253-777f666f90d0\n",
      "2025-02-05 14:29:29,846 INFO status has been updated to accepted\n",
      "2025-02-05 14:29:35,924 INFO status has been updated to running\n",
      "2025-02-05 14:29:53,613 INFO status has been updated to accepted\n",
      "2025-02-05 14:30:05,199 INFO status has been updated to running\n",
      "2025-02-05 14:42:01,069 INFO Daily reduction: mean {'time_shift': {'hours': -1}, 'remove_partial_periods': True}\n",
      "2025-02-05 14:44:02,106 INFO status has been updated to successful\n"
     ]
    },
    {
     "data": {
      "application/vnd.jupyter.widget-view+json": {
       "model_id": "c37870763eb4433e851a6c01604a0033",
       "version_major": 2,
       "version_minor": 0
      },
      "text/plain": [
       "50ab38eb7fd028948318a35db416c147.nc:   0%|          | 0.00/480k [00:00<?, ?B/s]"
      ]
     },
     "metadata": {},
     "output_type": "display_data"
    },
    {
     "name": "stdout",
     "output_type": "stream",
     "text": [
      "Downloaded data for year 2020: era5_daily_totlprecipitation2020.nc\n"
     ]
    },
    {
     "name": "stderr",
     "output_type": "stream",
     "text": [
      "2025-02-05 14:44:11,624 INFO [2025-01-09T00:00:00] Please be aware that ERA5 data from 1st January 2025 was degraded and is being corrected. Watch the [Forum announcement](https://forum.ecmwf.int/t/era5-data-from-1st-january-2025-was-degraded-and-is-being-corrected/10689) for updates.\n",
      "2025-02-05 14:44:11,627 INFO Request ID is 2c8629ff-1222-44bd-ae63-6869a09d0685\n",
      "2025-02-05 14:44:11,811 INFO status has been updated to accepted\n",
      "2025-02-05 14:44:17,195 INFO status has been updated to running\n",
      "2025-02-05 14:52:43,786 INFO Daily reduction: mean {'time_shift': {'hours': -1}, 'remove_partial_periods': True}\n",
      "2025-02-05 14:52:43,800 INFO status has been updated to successful\n"
     ]
    },
    {
     "data": {
      "application/vnd.jupyter.widget-view+json": {
       "model_id": "ef79a63d04d54ecdac50448bab2a83e1",
       "version_major": 2,
       "version_minor": 0
      },
      "text/plain": [
       "5c8ce325574d69ae1ccc18241348468f.nc:   0%|          | 0.00/492k [00:00<?, ?B/s]"
      ]
     },
     "metadata": {},
     "output_type": "display_data"
    },
    {
     "name": "stdout",
     "output_type": "stream",
     "text": [
      "Downloaded data for year 2021: era5_daily_totlprecipitation2021.nc\n"
     ]
    },
    {
     "name": "stderr",
     "output_type": "stream",
     "text": [
      "2025-02-05 14:52:49,457 INFO [2025-01-09T00:00:00] Please be aware that ERA5 data from 1st January 2025 was degraded and is being corrected. Watch the [Forum announcement](https://forum.ecmwf.int/t/era5-data-from-1st-january-2025-was-degraded-and-is-being-corrected/10689) for updates.\n",
      "2025-02-05 14:52:49,459 INFO Request ID is 7a7f64fd-0c1c-4d00-adda-65add5a1cbb7\n",
      "2025-02-05 14:52:49,690 INFO status has been updated to accepted\n",
      "2025-02-05 14:52:54,966 INFO status has been updated to running\n",
      "2025-02-05 15:05:12,910 INFO Daily reduction: mean {'time_shift': {'hours': -1}, 'remove_partial_periods': True}\n",
      "2025-02-05 15:05:12,912 INFO status has been updated to successful\n"
     ]
    },
    {
     "data": {
      "application/vnd.jupyter.widget-view+json": {
       "model_id": "981172d863c246bb8d74427ed35805c2",
       "version_major": 2,
       "version_minor": 0
      },
      "text/plain": [
       "128c4cbaf13889c607b16c90537192cf.nc:   0%|          | 0.00/484k [00:00<?, ?B/s]"
      ]
     },
     "metadata": {},
     "output_type": "display_data"
    },
    {
     "name": "stdout",
     "output_type": "stream",
     "text": [
      "Downloaded data for year 2022: era5_daily_totlprecipitation2022.nc\n"
     ]
    },
    {
     "name": "stderr",
     "output_type": "stream",
     "text": [
      "2025-02-05 15:05:16,312 INFO [2025-01-09T00:00:00] Please be aware that ERA5 data from 1st January 2025 was degraded and is being corrected. Watch the [Forum announcement](https://forum.ecmwf.int/t/era5-data-from-1st-january-2025-was-degraded-and-is-being-corrected/10689) for updates.\n",
      "2025-02-05 15:05:16,332 INFO Request ID is 22c2bab0-838a-43a2-a1e7-5df7b85d46ea\n",
      "2025-02-05 15:05:16,522 INFO status has been updated to accepted\n",
      "2025-02-05 15:05:21,835 INFO status has been updated to running\n",
      "2025-02-05 15:15:44,303 INFO Daily reduction: mean {'time_shift': {'hours': -1}, 'remove_partial_periods': True}\n",
      "2025-02-05 15:17:49,996 INFO status has been updated to successful\n"
     ]
    },
    {
     "data": {
      "application/vnd.jupyter.widget-view+json": {
       "model_id": "d12b2b9100924b8db75e6691f2ba0282",
       "version_major": 2,
       "version_minor": 0
      },
      "text/plain": [
       "5ef52f544d3f005c2ed23c75b203beef.nc:   0%|          | 0.00/490k [00:00<?, ?B/s]"
      ]
     },
     "metadata": {},
     "output_type": "display_data"
    },
    {
     "name": "stdout",
     "output_type": "stream",
     "text": [
      "Downloaded data for year 2023: era5_daily_totlprecipitation2023.nc\n"
     ]
    }
   ],
   "source": [
    "import cdsapi\n",
    "\n",
    "client = cdsapi.Client()\n",
    "\n",
    "dataset = \"derived-era5-single-levels-daily-statistics\"\n",
    "\n",
    "for year in range(2004, 2024):\n",
    "    request = {\n",
    "        \"product_type\": \"reanalysis\",\n",
    "        \"variable\": [\n",
    "            \"total_precipitation\"\n",
    "        ],\n",
    "        'year': str(year),\n",
    "        \"month\": [\n",
    "            \"01\", \"02\", \"03\",\n",
    "            \"04\", \"05\", \"06\",\n",
    "            \"07\", \"08\", \"09\",\n",
    "            \"10\", \"11\", \"12\"\n",
    "        ],\n",
    "        \"day\": [\n",
    "            \"01\", \"02\", \"03\",\n",
    "            \"04\", \"05\", \"06\",\n",
    "            \"07\", \"08\", \"09\",\n",
    "            \"10\", \"11\", \"12\",\n",
    "            \"13\", \"14\", \"15\",\n",
    "            \"16\", \"17\", \"18\",\n",
    "            \"19\", \"20\", \"21\",\n",
    "            \"22\", \"23\", \"24\",\n",
    "            \"25\", \"26\", \"27\",\n",
    "            \"28\", \"29\", \"30\",\n",
    "            \"31\"\n",
    "        ],\n",
    "        \"daily_statistic\": \"daily_mean\",\n",
    "        \"time_zone\": \"utc+00:00\",\n",
    "        \"frequency\": \"1_hourly\",\n",
    "        \"area\": [12, -3, 4, 2]\n",
    "    }\n",
    "\n",
    "    filename = f\"era5_daily_totlprecipitation{year}.nc\"\n",
    "\n",
    "    client.retrieve(dataset, request, filename)\n",
    "    print(f\"Downloaded data for year {year}: {filename}\")\n"
   ]
  },
  {
   "cell_type": "code",
   "execution_count": null,
   "id": "c5c034d4-a6b9-444e-8e82-8d3eb9695863",
   "metadata": {},
   "outputs": [],
   "source": [
    "\n"
   ]
  }
 ],
 "metadata": {
  "kernelspec": {
   "display_name": "Python 3 (ipykernel)",
   "language": "python",
   "name": "python3"
  },
  "language_info": {
   "codemirror_mode": {
    "name": "ipython",
    "version": 3
   },
   "file_extension": ".py",
   "mimetype": "text/x-python",
   "name": "python",
   "nbconvert_exporter": "python",
   "pygments_lexer": "ipython3",
   "version": "3.12.7"
  }
 },
 "nbformat": 4,
 "nbformat_minor": 5
}
