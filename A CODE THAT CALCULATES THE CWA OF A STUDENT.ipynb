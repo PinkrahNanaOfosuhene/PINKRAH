{
 "cells": [
  {
   "cell_type": "markdown",
   "id": "a5c6b25a",
   "metadata": {},
   "source": [
    "# NAME : PINKRAH NANA OFOSUHENE"
   ]
  },
  {
   "cell_type": "markdown",
   "id": "01211d65",
   "metadata": {},
   "source": [
    "<h1 style=\"font-size:3rem;color:orange;\">TUTORIALS"
   ]
  },
  {
   "cell_type": "markdown",
   "id": "743edca5",
   "metadata": {},
   "source": [
    "# A PROGRAM THAT CALCULATES THE CWA OF EACH STUDENT"
   ]
  },
  {
   "cell_type": "code",
   "execution_count": 3,
   "id": "6289f245",
   "metadata": {},
   "outputs": [
    {
     "name": "stdout",
     "output_type": "stream",
     "text": [
      "Enter your cwa65\n",
      "Second class upper\n"
     ]
    }
   ],
   "source": [
    "marks = input(\"Enter your cwa\")\n",
    "marks = float(marks)\n",
    "\n",
    "if (marks >= 70.0) and (marks <= 100.0):\n",
    "    print(\"First classs\")\n",
    "elif (marks < 70.0) and (marks >= 60.0):\n",
    "    print(\"Second class upper\")\n",
    "elif (marks < 60.0) and (marks >= 50.0):\n",
    "    print (\"Second class lower\")\n",
    "elif (marks < 50.0) and (marks >= 40.0):\n",
    "    print(\"pass\") \n",
    "elif (marks < 40.0) and (marks >= 0.0):\n",
    "    print(\"fail\")  \n",
    "else:\n",
    "    print(\"INVALID\")"
   ]
  },
  {
   "cell_type": "code",
   "execution_count": null,
   "id": "6f7abf40",
   "metadata": {},
   "outputs": [],
   "source": []
  }
 ],
 "metadata": {
  "kernelspec": {
   "display_name": "Python 3 (ipykernel)",
   "language": "python",
   "name": "python3"
  },
  "language_info": {
   "codemirror_mode": {
    "name": "ipython",
    "version": 3
   },
   "file_extension": ".py",
   "mimetype": "text/x-python",
   "name": "python",
   "nbconvert_exporter": "python",
   "pygments_lexer": "ipython3",
   "version": "3.11.4"
  }
 },
 "nbformat": 4,
 "nbformat_minor": 5
}
