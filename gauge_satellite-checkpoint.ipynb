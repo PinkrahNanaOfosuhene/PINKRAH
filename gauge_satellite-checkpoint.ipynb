{
 "cells": [
  {
   "cell_type": "code",
   "execution_count": 1,
   "id": "75d7c8a1",
   "metadata": {},
   "outputs": [],
   "source": [
    "import pandas as pd\n",
    "dataframe = pd.read_excel(\"Data.xlsx\")"
   ]
  },
  {
   "cell_type": "code",
   "execution_count": 3,
   "id": "303216ec",
   "metadata": {},
   "outputs": [],
   "source": [
    "header_names = ['YEAR', 'MONTH', 'GAUGE_DATA', 'SATELLITE_DATA']\n",
    "dataframe = pd.read_excel(\"Data.xlsx\",  header=None, skiprows = 1, names=header_names)"
   ]
  },
  {
   "cell_type": "code",
   "execution_count": 4,
   "id": "5610c09e",
   "metadata": {},
   "outputs": [],
   "source": [
    "gauge_data_1998 = []\n",
    "satellite_data_1998 = []\n",
    "gauge_data_2012 = []\n",
    "satellite_data_2012 = []\n",
    "for index, row in dataframe.iterrows():\n",
    "    if row['YEAR'] == 1998:\n",
    "        gauge_data_1998.append(row['GAUGE_DATA'])\n",
    "        satellite_data_1998.append(row['SATELLITE_DATA'])\n",
    "    elif row['YEAR'] == 2012:\n",
    "        gauge_data_2012.append(row['GAUGE_DATA'])\n",
    "        satellite_data_2012.append(row['SATELLITE_DATA'])"
   ]
  },
  {
   "cell_type": "code",
   "execution_count": 10,
   "id": "0e0f43c2",
   "metadata": {},
   "outputs": [],
   "source": [
    "month = ['Jan','Feb','Mar','Apr','May','Jun','Jul','Aug','Sep','Oct','Nov','Dec']"
   ]
  },
  {
   "cell_type": "code",
   "execution_count": 45,
   "id": "08e70735",
   "metadata": {},
   "outputs": [],
   "source": [
    "from matplotlib import pyplot as plt\n",
    "fig, axis1 = plt.subplots()\n",
    "plt.xlabel('Months')\n",
    "\n",
    "axis1.plot(month, gauge_data_1998, color='green')\n",
    "axis2 = axis1.twinx()\n",
    "axis2.plot(month, satellite_data_1998, color='red')\n",
    "\n",
    "axis1.set_ylabel('GAUGE DATA', color='green')\n",
    "axis2.set_ylabel('SATELLITE DATA', color='red')\n",
    "\n",
    "axis1.tick_params(axis='y', colors='green')\n",
    "axis2.tick_params(axis='y', colors='red')\n",
    "\n",
    "axis2.spines['right'].set_color('red')\n",
    "axis2.spines['left'].set_color('green')\n",
    "\n",
    "plt.title('Monthly Gauge and Satellite Data for 1998')\n",
    "\n",
    "fig.savefig('gauge-satellite-1998.png', bbox_inches='tight')\n",
    "plt.close()"
   ]
  },
  {
   "cell_type": "code",
   "execution_count": 44,
   "id": "9e630bb6",
   "metadata": {},
   "outputs": [],
   "source": [
    "fig, ax1 = plt.subplots()\n",
    "plt.xlabel('Month')\n",
    "ax1.plot(month, gauge_data_2012, color='green')\n",
    "\n",
    "ax2 = ax1.twinx()\n",
    "ax2.plot(month, satellite_data_2012, color='red')\n",
    "\n",
    "ax1.set_ylabel('GAUGE DATA', color='green')\n",
    "ax2.set_ylabel('SATELLITE DATA', color='red')\n",
    "\n",
    "ax1.tick_params(axis='y', colors='green')\n",
    "ax2.tick_params(axis='y', colors='red')\n",
    "\n",
    "ax2.spines['right'].set_color('red')\n",
    "ax2.spines['left'].set_color('green')\n",
    "\n",
    "plt.title('Monthly Gauge and Satellite Data for 2012')\n",
    "\n",
    "fig.savefig('gauge-satellite-2012.png', bbox_inches='tight')\n",
    "plt.close()"
   ]
  },
  {
   "cell_type": "code",
   "execution_count": null,
   "id": "8705d35e",
   "metadata": {},
   "outputs": [],
   "source": []
  }
 ],
 "metadata": {
  "kernelspec": {
   "display_name": "Python 3 (ipykernel)",
   "language": "python",
   "name": "python3"
  },
  "language_info": {
   "codemirror_mode": {
    "name": "ipython",
    "version": 3
   },
   "file_extension": ".py",
   "mimetype": "text/x-python",
   "name": "python",
   "nbconvert_exporter": "python",
   "pygments_lexer": "ipython3",
   "version": "3.9.12"
  }
 },
 "nbformat": 4,
 "nbformat_minor": 5
}
